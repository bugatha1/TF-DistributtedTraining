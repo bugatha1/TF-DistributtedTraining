{
  "nbformat": 4,
  "nbformat_minor": 0,
  "metadata": {
    "colab": {
      "name": "SimpleTFDistributed Training .ipynb",
      "provenance": [],
      "authorship_tag": "ABX9TyMzdxTpxuf0JZYPUANQmlQs",
      "include_colab_link": true
    },
    "kernelspec": {
      "name": "python3",
      "display_name": "Python 3"
    },
    "language_info": {
      "name": "python"
    },
    "accelerator": "GPU",
    "gpuClass": "standard"
  },
  "cells": [
    {
      "cell_type": "markdown",
      "metadata": {
        "id": "view-in-github",
        "colab_type": "text"
      },
      "source": [
        "<a href=\"https://colab.research.google.com/github/bugatha1/TF-DistributtedTraining/blob/main/SimpleTFDistributed_Training_.ipynb\" target=\"_parent\"><img src=\"https://colab.research.google.com/assets/colab-badge.svg\" alt=\"Open In Colab\"/></a>"
      ]
    },
    {
      "cell_type": "code",
      "execution_count": 6,
      "metadata": {
        "id": "8aw9SItdIx0q"
      },
      "outputs": [],
      "source": [
        "import tensorflow as tf"
      ]
    },
    {
      "cell_type": "code",
      "source": [
        "from tensorflow.keras import datasets, layers, models\n",
        "import numpy as np\n",
        "import os\n",
        "from datetime import datetime"
      ],
      "metadata": {
        "id": "Qy2HYj-VI4ei"
      },
      "execution_count": 9,
      "outputs": []
    },
    {
      "cell_type": "code",
      "source": [
        "strategy = tf.distribute.MirroredStrategy()"
      ],
      "metadata": {
        "colab": {
          "base_uri": "https://localhost:8080/"
        },
        "id": "RIahY0iXJACj",
        "outputId": "103c1727-233e-4edf-83dd-8cd669157bc1"
      },
      "execution_count": 10,
      "outputs": [
        {
          "output_type": "stream",
          "name": "stdout",
          "text": [
            "INFO:tensorflow:Using MirroredStrategy with devices ('/job:localhost/replica:0/task:0/device:GPU:0',)\n"
          ]
        }
      ]
    },
    {
      "cell_type": "code",
      "source": [
        "print('Number of devices: {}'.format(\n",
        " strategy.num_replicas_in_sync))"
      ],
      "metadata": {
        "colab": {
          "base_uri": "https://localhost:8080/"
        },
        "id": "6i8gemYJJ3Xx",
        "outputId": "8c7b816a-e67d-422e-a786-8ac18500d015"
      },
      "execution_count": 11,
      "outputs": [
        {
          "output_type": "stream",
          "name": "stdout",
          "text": [
            "Number of devices: 1\n"
          ]
        }
      ]
    },
    {
      "cell_type": "code",
      "source": [
        "(train_images, train_labels), (test_images, test_labels) = datasets.cifar10.load_data()\n",
        "# Normalize pixel values to be between 0 and 1\n",
        "train_images, test_images = train_images / 255.0, test_images / 255.0"
      ],
      "metadata": {
        "id": "poF8gD6LKAEk"
      },
      "execution_count": 13,
      "outputs": []
    },
    {
      "cell_type": "code",
      "source": [
        "# Plain-text name in alphabetical order. See https://www.cs.toronto.edu/~kriz/cifar.html\n",
        "CLASS_NAMES = ['airplane', 'automobile', 'bird', 'cat', \n",
        "               'deer','dog', 'frog', 'horse', 'ship', 'truck']"
      ],
      "metadata": {
        "id": "rGE0r3-uLEBI"
      },
      "execution_count": 14,
      "outputs": []
    },
    {
      "cell_type": "code",
      "source": [
        "validation_dataset = tf.data.Dataset.from_tensor_slices(\n",
        "(test_images[:500], \n",
        " test_labels[:500]))\n",
        "\n",
        "test_dataset = tf.data.Dataset.from_tensor_slices(\n",
        "(test_images[500:], \n",
        " test_labels[500:]))\n",
        "\n",
        "train_dataset = tf.data.Dataset.from_tensor_slices(\n",
        "(train_images,\n",
        " train_labels))"
      ],
      "metadata": {
        "id": "ZttAgUC7LW57"
      },
      "execution_count": 15,
      "outputs": []
    },
    {
      "cell_type": "code",
      "source": [
        "train_dataset_size = len(list(train_dataset.as_numpy_iterator()))\n",
        "print('Training data sample size: ', train_dataset_size)\n",
        "\n",
        "validation_dataset_size = len(list(validation_dataset.\n",
        "as_numpy_iterator()))\n",
        "print('Validation data sample size: ', validation_dataset_size)\n",
        "\n",
        "test_dataset_size = len(list(test_dataset.as_numpy_iterator()))\n",
        "print('Test data sample size: ', test_dataset_size)"
      ],
      "metadata": {
        "colab": {
          "base_uri": "https://localhost:8080/"
        },
        "id": "0-WXjA7mLbQo",
        "outputId": "9c26e914-6089-4b5a-809a-5e564c3911a5"
      },
      "execution_count": 16,
      "outputs": [
        {
          "output_type": "stream",
          "name": "stdout",
          "text": [
            "Training data sample size:  50000\n",
            "Validation data sample size:  500\n",
            "Test data sample size:  9500\n"
          ]
        }
      ]
    },
    {
      "cell_type": "markdown",
      "source": [
        ""
      ],
      "metadata": {
        "id": "WDRFd9EQMA3J"
      }
    },
    {
      "cell_type": "code",
      "source": [
        "TRAIN_BATCH_SIZE = 128\n",
        "train_dataset = train_dataset.shuffle(50000).batch(TRAIN_BATCH_SIZE, drop_remainder=True)\n",
        "\n",
        "validation_dataset = validation_dataset.batch(validation_dataset_size)\n",
        "test_dataset = test_dataset.batch(test_dataset_size)"
      ],
      "metadata": {
        "id": "Ht0W7L1QLhu3"
      },
      "execution_count": 17,
      "outputs": []
    },
    {
      "cell_type": "code",
      "source": [
        "STEPS_PER_EPOCH = train_dataset_size // TRAIN_BATCH_SIZE\n",
        "VALIDATION_STEPS = 1"
      ],
      "metadata": {
        "id": "hzstII6xLxjs"
      },
      "execution_count": 18,
      "outputs": []
    },
    {
      "cell_type": "code",
      "source": [
        "with strategy.scope():\n",
        "  model = tf.keras.Sequential([\n",
        "    tf.keras.layers.Conv2D(32, kernel_size=(3, 3),activation='relu', name = 'conv_1',kernel_initializer='glorot_uniform',padding='same', input_shape = (32,32,3)),\n",
        "    tf.keras.layers.MaxPooling2D(pool_size=(2, 2)),\n",
        "    tf.keras.layers.Conv2D(64, kernel_size=(3, 3),activation='relu', name = 'conv_2',kernel_initializer='glorot_uniform', padding='same'),\n",
        "    tf.keras.layers.MaxPooling2D(pool_size=(2, 2)),\n",
        "    tf.keras.layers.Flatten(name = 'flat_1'),\n",
        "    tf.keras.layers.Dense(256, activation='relu',kernel_initializer='glorot_uniform', name = 'dense_64'),\n",
        "    tf.keras.layers.Dense(10, activation='softmax',name = 'custom_class')\n",
        "  ])\n",
        "  model.build([None, 32, 32, 3])\n",
        "\n",
        "  model.compile(\n",
        "    loss=tf.keras.losses.SparseCategoricalCrossentropy(\n",
        "    from_logits=True),\n",
        "    optimizer='adam',\n",
        "    metrics=['accuracy'])"
      ],
      "metadata": {
        "colab": {
          "base_uri": "https://localhost:8080/"
        },
        "id": "j32Y7vy1L1Qf",
        "outputId": "65e0ce3f-da97-43a2-b5b8-01f379d45fb0"
      },
      "execution_count": 19,
      "outputs": [
        {
          "output_type": "stream",
          "name": "stdout",
          "text": [
            "INFO:tensorflow:Reduce to /job:localhost/replica:0/task:0/device:CPU:0 then broadcast to ('/job:localhost/replica:0/task:0/device:CPU:0',).\n",
            "INFO:tensorflow:Reduce to /job:localhost/replica:0/task:0/device:CPU:0 then broadcast to ('/job:localhost/replica:0/task:0/device:CPU:0',).\n",
            "INFO:tensorflow:Reduce to /job:localhost/replica:0/task:0/device:CPU:0 then broadcast to ('/job:localhost/replica:0/task:0/device:CPU:0',).\n",
            "INFO:tensorflow:Reduce to /job:localhost/replica:0/task:0/device:CPU:0 then broadcast to ('/job:localhost/replica:0/task:0/device:CPU:0',).\n"
          ]
        }
      ]
    },
    {
      "cell_type": "code",
      "source": [
        "MODEL_NAME = 'myCIFAR10-{}'.format(datetime.now().strftime(\"%Y%m%d-%H%M%S\"))\n",
        "\n",
        "checkpoint_dir = './' + MODEL_NAME\n",
        "checkpoint_prefix = os.path.join(checkpoint_dir, \"ckpt-{epoch}\")\n",
        "print(checkpoint_prefix)"
      ],
      "metadata": {
        "colab": {
          "base_uri": "https://localhost:8080/"
        },
        "id": "dPCyRcmwMqJb",
        "outputId": "dfffa8de-3f38-4509-e8bf-66f56b231213"
      },
      "execution_count": 20,
      "outputs": [
        {
          "output_type": "stream",
          "name": "stdout",
          "text": [
            "./myCIFAR10-20220622-113643/ckpt-{epoch}\n"
          ]
        }
      ]
    },
    {
      "cell_type": "code",
      "source": [
        "myCheckPoint = tf.keras.callbacks.ModelCheckpoint(\n",
        "    filepath=checkpoint_prefix,\n",
        "    monitor='val_accuracy',\n",
        "    mode='max',\n",
        "    save_weights_only=True,\n",
        "    save_best_only = True)"
      ],
      "metadata": {
        "id": "ghGqWLUmM0Vd"
      },
      "execution_count": 21,
      "outputs": []
    },
    {
      "cell_type": "code",
      "source": [
        "myCallbacks = [\n",
        "    myCheckPoint\n",
        "]"
      ],
      "metadata": {
        "id": "imk15vfBM8JD"
      },
      "execution_count": 22,
      "outputs": []
    },
    {
      "cell_type": "code",
      "source": [
        "hist = model.fit(\n",
        "    train_dataset,\n",
        "    epochs=12,\n",
        "    steps_per_epoch=STEPS_PER_EPOCH,\n",
        "    validation_data=validation_dataset,\n",
        "    validation_steps=VALIDATION_STEPS,\n",
        "    callbacks=myCallbacks).history"
      ],
      "metadata": {
        "colab": {
          "base_uri": "https://localhost:8080/"
        },
        "id": "Nc2Li3oqNAkS",
        "outputId": "5177f175-1e41-438c-d6ca-ef4905f5cce2"
      },
      "execution_count": 23,
      "outputs": [
        {
          "output_type": "stream",
          "name": "stdout",
          "text": [
            "Epoch 1/12\n",
            "INFO:tensorflow:Reduce to /job:localhost/replica:0/task:0/device:CPU:0 then broadcast to ('/job:localhost/replica:0/task:0/device:CPU:0',).\n",
            "INFO:tensorflow:Reduce to /job:localhost/replica:0/task:0/device:CPU:0 then broadcast to ('/job:localhost/replica:0/task:0/device:CPU:0',).\n",
            "INFO:tensorflow:Reduce to /job:localhost/replica:0/task:0/device:CPU:0 then broadcast to ('/job:localhost/replica:0/task:0/device:CPU:0',).\n",
            "INFO:tensorflow:Reduce to /job:localhost/replica:0/task:0/device:CPU:0 then broadcast to ('/job:localhost/replica:0/task:0/device:CPU:0',).\n",
            "INFO:tensorflow:Reduce to /job:localhost/replica:0/task:0/device:CPU:0 then broadcast to ('/job:localhost/replica:0/task:0/device:CPU:0',).\n"
          ]
        },
        {
          "output_type": "stream",
          "name": "stderr",
          "text": [
            "/usr/local/lib/python3.7/dist-packages/tensorflow/python/util/dispatch.py:1082: UserWarning: \"`sparse_categorical_crossentropy` received `from_logits=True`, but the `output` argument was produced by a sigmoid or softmax activation and thus does not represent logits. Was this intended?\"\n",
            "  return dispatch_target(*args, **kwargs)\n"
          ]
        },
        {
          "output_type": "stream",
          "name": "stdout",
          "text": [
            "INFO:tensorflow:Reduce to /job:localhost/replica:0/task:0/device:CPU:0 then broadcast to ('/job:localhost/replica:0/task:0/device:CPU:0',).\n",
            "390/390 [==============================] - 18s 11ms/step - loss: 1.4769 - accuracy: 0.4716 - val_loss: 1.2325 - val_accuracy: 0.5640\n",
            "Epoch 2/12\n",
            "390/390 [==============================] - 3s 7ms/step - loss: 1.0922 - accuracy: 0.6171 - val_loss: 1.0253 - val_accuracy: 0.6380\n",
            "Epoch 3/12\n",
            "390/390 [==============================] - 3s 7ms/step - loss: 0.9455 - accuracy: 0.6710 - val_loss: 0.9519 - val_accuracy: 0.6840\n",
            "Epoch 4/12\n",
            "390/390 [==============================] - 3s 7ms/step - loss: 0.8547 - accuracy: 0.7035 - val_loss: 0.9804 - val_accuracy: 0.6600\n",
            "Epoch 5/12\n",
            "390/390 [==============================] - 3s 7ms/step - loss: 0.7809 - accuracy: 0.7296 - val_loss: 0.8870 - val_accuracy: 0.6960\n",
            "Epoch 6/12\n",
            "390/390 [==============================] - 3s 7ms/step - loss: 0.7083 - accuracy: 0.7548 - val_loss: 0.9352 - val_accuracy: 0.6800\n",
            "Epoch 7/12\n",
            "390/390 [==============================] - 3s 7ms/step - loss: 0.6536 - accuracy: 0.7744 - val_loss: 0.8893 - val_accuracy: 0.6860\n",
            "Epoch 8/12\n",
            "390/390 [==============================] - 3s 7ms/step - loss: 0.5897 - accuracy: 0.7960 - val_loss: 0.8627 - val_accuracy: 0.6980\n",
            "Epoch 9/12\n",
            "390/390 [==============================] - 3s 7ms/step - loss: 0.5319 - accuracy: 0.8160 - val_loss: 0.8732 - val_accuracy: 0.6940\n",
            "Epoch 10/12\n",
            "390/390 [==============================] - 3s 7ms/step - loss: 0.4660 - accuracy: 0.8384 - val_loss: 0.8636 - val_accuracy: 0.7060\n",
            "Epoch 11/12\n",
            "390/390 [==============================] - 3s 7ms/step - loss: 0.4048 - accuracy: 0.8617 - val_loss: 0.9244 - val_accuracy: 0.7200\n",
            "Epoch 12/12\n",
            "390/390 [==============================] - 3s 7ms/step - loss: 0.3507 - accuracy: 0.8788 - val_loss: 0.9555 - val_accuracy: 0.7060\n"
          ]
        }
      ]
    },
    {
      "cell_type": "code",
      "source": [
        "hist['val_accuracy']"
      ],
      "metadata": {
        "colab": {
          "base_uri": "https://localhost:8080/"
        },
        "id": "vj5Li7lVNFD5",
        "outputId": "afe7c7db-3042-46cf-9299-b4ad82b90f47"
      },
      "execution_count": 24,
      "outputs": [
        {
          "output_type": "execute_result",
          "data": {
            "text/plain": [
              "[0.5640000104904175,\n",
              " 0.6380000114440918,\n",
              " 0.6840000152587891,\n",
              " 0.6600000262260437,\n",
              " 0.6959999799728394,\n",
              " 0.6800000071525574,\n",
              " 0.6859999895095825,\n",
              " 0.6980000138282776,\n",
              " 0.6940000057220459,\n",
              " 0.7059999704360962,\n",
              " 0.7200000286102295,\n",
              " 0.7059999704360962]"
            ]
          },
          "metadata": {},
          "execution_count": 24
        }
      ]
    },
    {
      "cell_type": "code",
      "source": [
        "max_value = max(hist['val_accuracy'])\n",
        "max_index = hist['val_accuracy'].index(max_value)\n",
        "print('Best epoch: ', max_index + 1)"
      ],
      "metadata": {
        "colab": {
          "base_uri": "https://localhost:8080/"
        },
        "id": "4w_8XZKENXpd",
        "outputId": "0858a162-e41d-4644-cba1-63588a637170"
      },
      "execution_count": 25,
      "outputs": [
        {
          "output_type": "stream",
          "name": "stdout",
          "text": [
            "Best epoch:  11\n"
          ]
        }
      ]
    },
    {
      "cell_type": "code",
      "source": [
        "tf.train.latest_checkpoint(checkpoint_dir)"
      ],
      "metadata": {
        "colab": {
          "base_uri": "https://localhost:8080/",
          "height": 36
        },
        "id": "aBMZTYV0NcVy",
        "outputId": "252ff281-4569-43a8-c16a-4399a2e71bc2"
      },
      "execution_count": 26,
      "outputs": [
        {
          "output_type": "execute_result",
          "data": {
            "text/plain": [
              "'./myCIFAR10-20220622-113643/ckpt-11'"
            ],
            "application/vnd.google.colaboratory.intrinsic+json": {
              "type": "string"
            }
          },
          "metadata": {},
          "execution_count": 26
        }
      ]
    },
    {
      "cell_type": "code",
      "source": [
        "model.load_weights(tf.train.latest_checkpoint(checkpoint_dir))"
      ],
      "metadata": {
        "colab": {
          "base_uri": "https://localhost:8080/"
        },
        "id": "uyk5XpTINl7R",
        "outputId": "434f87cf-7fa7-402f-c0bd-41d5992d4ccb"
      },
      "execution_count": 27,
      "outputs": [
        {
          "output_type": "execute_result",
          "data": {
            "text/plain": [
              "<tensorflow.python.training.tracking.util.CheckpointLoadStatus at 0x7f0e8c6b0650>"
            ]
          },
          "metadata": {},
          "execution_count": 27
        }
      ]
    },
    {
      "cell_type": "code",
      "source": [
        "eval_loss, eval_acc = model.evaluate(test_dataset)\n",
        "print('Eval loss: {}, Eval Accuracy: {}'.format(\n",
        "eval_loss, eval_acc))"
      ],
      "metadata": {
        "colab": {
          "base_uri": "https://localhost:8080/"
        },
        "id": "7X-vg_DANpme",
        "outputId": "aaf25d6e-db5b-499c-811b-1751083c7b12"
      },
      "execution_count": 28,
      "outputs": [
        {
          "output_type": "stream",
          "name": "stdout",
          "text": [
            "1/1 [==============================] - 2s 2s/step - loss: 0.9070 - accuracy: 0.7243\n",
            "Eval loss: 0.9070010185241699, Eval Accuracy: 0.7243157625198364\n"
          ]
        }
      ]
    },
    {
      "cell_type": "code",
      "source": [
        ""
      ],
      "metadata": {
        "id": "Paklvi7jNuhm"
      },
      "execution_count": null,
      "outputs": []
    }
  ]
}